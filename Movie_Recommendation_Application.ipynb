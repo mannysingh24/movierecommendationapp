{
  "nbformat": 4,
  "nbformat_minor": 0,
  "metadata": {
    "colab": {
      "provenance": [],
      "collapsed_sections": []
    },
    "kernelspec": {
      "name": "python3",
      "display_name": "Python 3"
    },
    "language_info": {
      "name": "python"
    },
    "widgets": {
      "application/vnd.jupyter.widget-state+json": {
        "baabd46b2c4b486cb6240b046d40c94b": {
          "model_module": "@jupyter-widgets/controls",
          "model_name": "TextModel",
          "model_module_version": "1.5.0",
          "state": {
            "_dom_classes": [],
            "_model_module": "@jupyter-widgets/controls",
            "_model_module_version": "1.5.0",
            "_model_name": "TextModel",
            "_view_count": null,
            "_view_module": "@jupyter-widgets/controls",
            "_view_module_version": "1.5.0",
            "_view_name": "TextView",
            "continuous_update": true,
            "description": "Movie Name:",
            "description_tooltip": null,
            "disabled": false,
            "layout": "IPY_MODEL_afb15456f19d40ed92b96906b82e8c73",
            "placeholder": "​",
            "style": "IPY_MODEL_4de547a510bd42f496676dca47fcbba4",
            "value": "Batman Begins 2005"
          }
        },
        "afb15456f19d40ed92b96906b82e8c73": {
          "model_module": "@jupyter-widgets/base",
          "model_name": "LayoutModel",
          "model_module_version": "1.2.0",
          "state": {
            "_model_module": "@jupyter-widgets/base",
            "_model_module_version": "1.2.0",
            "_model_name": "LayoutModel",
            "_view_count": null,
            "_view_module": "@jupyter-widgets/base",
            "_view_module_version": "1.2.0",
            "_view_name": "LayoutView",
            "align_content": null,
            "align_items": null,
            "align_self": null,
            "border": null,
            "bottom": null,
            "display": null,
            "flex": null,
            "flex_flow": null,
            "grid_area": null,
            "grid_auto_columns": null,
            "grid_auto_flow": null,
            "grid_auto_rows": null,
            "grid_column": null,
            "grid_gap": null,
            "grid_row": null,
            "grid_template_areas": null,
            "grid_template_columns": null,
            "grid_template_rows": null,
            "height": null,
            "justify_content": null,
            "justify_items": null,
            "left": null,
            "margin": null,
            "max_height": null,
            "max_width": null,
            "min_height": null,
            "min_width": null,
            "object_fit": null,
            "object_position": null,
            "order": null,
            "overflow": null,
            "overflow_x": null,
            "overflow_y": null,
            "padding": null,
            "right": null,
            "top": null,
            "visibility": null,
            "width": null
          }
        },
        "4de547a510bd42f496676dca47fcbba4": {
          "model_module": "@jupyter-widgets/controls",
          "model_name": "DescriptionStyleModel",
          "model_module_version": "1.5.0",
          "state": {
            "_model_module": "@jupyter-widgets/controls",
            "_model_module_version": "1.5.0",
            "_model_name": "DescriptionStyleModel",
            "_view_count": null,
            "_view_module": "@jupyter-widgets/base",
            "_view_module_version": "1.2.0",
            "_view_name": "StyleView",
            "description_width": ""
          }
        },
        "9300783dd08344ef92dd7786c3dfad0a": {
          "model_module": "@jupyter-widgets/output",
          "model_name": "OutputModel",
          "model_module_version": "1.0.0",
          "state": {
            "_dom_classes": [],
            "_model_module": "@jupyter-widgets/output",
            "_model_module_version": "1.0.0",
            "_model_name": "OutputModel",
            "_view_count": null,
            "_view_module": "@jupyter-widgets/output",
            "_view_module_version": "1.0.0",
            "_view_name": "OutputView",
            "layout": "IPY_MODEL_b1b9cc7f0e2f44449ad6da8a914f8568",
            "msg_id": "",
            "outputs": [
              {
                "output_type": "display_data",
                "data": {
                  "text/plain": "              score                                              title  \\\n47044  15851.000000                                     One Way (2006)   \n10266  15851.000000                                           4 (2005)   \n17409   7925.500000                         Hipsters (Stilyagi) (2008)   \n6555    7925.500000                        Handmaid's Tale, The (1990)   \n12781   7925.500000                                      Krabat (2008)   \n12035   5283.666667          Rabbit Without Ears (Keinohrhasen) (2007)   \n11962   2641.833333                                          12 (2007)   \n23444   2264.428571                  Welcome, or No Trespassing (1964)   \n13835   1585.100000      Coco Before Chanel (Coco avant Chanel) (2009)   \n4284    1585.100000                          Lost and Delirious (2001)   \n29529   1585.100000                                   Radio Day (2008)   \n9827    1320.916667                      Sexmission (Seksmisja) (1984)   \n18921   1132.214286  From Up on Poppy Hill (Kokuriko-zaka kara) (2011)   \n9554     990.687500   Rory O'Shea Was Here (Inside I'm Dancing) (2004)   \n21225    932.411765   Garden of Words, The (Koto no ha no niwa) (2013)   \n\n                         genres  \n47044    Crime|Mystery|Thriller  \n10266                     Drama  \n17409     Drama|Musical|Romance  \n6555               Drama|Sci-Fi  \n12781             Drama|Fantasy  \n12035            Comedy|Romance  \n11962  Crime|Drama|Thriller|War  \n23444           Children|Comedy  \n13835                     Drama  \n4284                      Drama  \n29529                    Comedy  \n9827    Adventure|Comedy|Sci-Fi  \n18921   Animation|Drama|Romance  \n9554                      Drama  \n21225         Animation|Romance  ",
                  "text/html": "\n  <div id=\"df-957873d4-98f0-4d90-aba2-2c5d13bd084c\">\n    <div class=\"colab-df-container\">\n      <div>\n<style scoped>\n    .dataframe tbody tr th:only-of-type {\n        vertical-align: middle;\n    }\n\n    .dataframe tbody tr th {\n        vertical-align: top;\n    }\n\n    .dataframe thead th {\n        text-align: right;\n    }\n</style>\n<table border=\"1\" class=\"dataframe\">\n  <thead>\n    <tr style=\"text-align: right;\">\n      <th></th>\n      <th>score</th>\n      <th>title</th>\n      <th>genres</th>\n    </tr>\n  </thead>\n  <tbody>\n    <tr>\n      <th>47044</th>\n      <td>15851.000000</td>\n      <td>One Way (2006)</td>\n      <td>Crime|Mystery|Thriller</td>\n    </tr>\n    <tr>\n      <th>10266</th>\n      <td>15851.000000</td>\n      <td>4 (2005)</td>\n      <td>Drama</td>\n    </tr>\n    <tr>\n      <th>17409</th>\n      <td>7925.500000</td>\n      <td>Hipsters (Stilyagi) (2008)</td>\n      <td>Drama|Musical|Romance</td>\n    </tr>\n    <tr>\n      <th>6555</th>\n      <td>7925.500000</td>\n      <td>Handmaid's Tale, The (1990)</td>\n      <td>Drama|Sci-Fi</td>\n    </tr>\n    <tr>\n      <th>12781</th>\n      <td>7925.500000</td>\n      <td>Krabat (2008)</td>\n      <td>Drama|Fantasy</td>\n    </tr>\n    <tr>\n      <th>12035</th>\n      <td>5283.666667</td>\n      <td>Rabbit Without Ears (Keinohrhasen) (2007)</td>\n      <td>Comedy|Romance</td>\n    </tr>\n    <tr>\n      <th>11962</th>\n      <td>2641.833333</td>\n      <td>12 (2007)</td>\n      <td>Crime|Drama|Thriller|War</td>\n    </tr>\n    <tr>\n      <th>23444</th>\n      <td>2264.428571</td>\n      <td>Welcome, or No Trespassing (1964)</td>\n      <td>Children|Comedy</td>\n    </tr>\n    <tr>\n      <th>13835</th>\n      <td>1585.100000</td>\n      <td>Coco Before Chanel (Coco avant Chanel) (2009)</td>\n      <td>Drama</td>\n    </tr>\n    <tr>\n      <th>4284</th>\n      <td>1585.100000</td>\n      <td>Lost and Delirious (2001)</td>\n      <td>Drama</td>\n    </tr>\n    <tr>\n      <th>29529</th>\n      <td>1585.100000</td>\n      <td>Radio Day (2008)</td>\n      <td>Comedy</td>\n    </tr>\n    <tr>\n      <th>9827</th>\n      <td>1320.916667</td>\n      <td>Sexmission (Seksmisja) (1984)</td>\n      <td>Adventure|Comedy|Sci-Fi</td>\n    </tr>\n    <tr>\n      <th>18921</th>\n      <td>1132.214286</td>\n      <td>From Up on Poppy Hill (Kokuriko-zaka kara) (2011)</td>\n      <td>Animation|Drama|Romance</td>\n    </tr>\n    <tr>\n      <th>9554</th>\n      <td>990.687500</td>\n      <td>Rory O'Shea Was Here (Inside I'm Dancing) (2004)</td>\n      <td>Drama</td>\n    </tr>\n    <tr>\n      <th>21225</th>\n      <td>932.411765</td>\n      <td>Garden of Words, The (Koto no ha no niwa) (2013)</td>\n      <td>Animation|Romance</td>\n    </tr>\n  </tbody>\n</table>\n</div>\n      <button class=\"colab-df-convert\" onclick=\"convertToInteractive('df-957873d4-98f0-4d90-aba2-2c5d13bd084c')\"\n              title=\"Convert this dataframe to an interactive table.\"\n              style=\"display:none;\">\n        \n  <svg xmlns=\"http://www.w3.org/2000/svg\" height=\"24px\"viewBox=\"0 0 24 24\"\n       width=\"24px\">\n    <path d=\"M0 0h24v24H0V0z\" fill=\"none\"/>\n    <path d=\"M18.56 5.44l.94 2.06.94-2.06 2.06-.94-2.06-.94-.94-2.06-.94 2.06-2.06.94zm-11 1L8.5 8.5l.94-2.06 2.06-.94-2.06-.94L8.5 2.5l-.94 2.06-2.06.94zm10 10l.94 2.06.94-2.06 2.06-.94-2.06-.94-.94-2.06-.94 2.06-2.06.94z\"/><path d=\"M17.41 7.96l-1.37-1.37c-.4-.4-.92-.59-1.43-.59-.52 0-1.04.2-1.43.59L10.3 9.45l-7.72 7.72c-.78.78-.78 2.05 0 2.83L4 21.41c.39.39.9.59 1.41.59.51 0 1.02-.2 1.41-.59l7.78-7.78 2.81-2.81c.8-.78.8-2.07 0-2.86zM5.41 20L4 18.59l7.72-7.72 1.47 1.35L5.41 20z\"/>\n  </svg>\n      </button>\n      \n  <style>\n    .colab-df-container {\n      display:flex;\n      flex-wrap:wrap;\n      gap: 12px;\n    }\n\n    .colab-df-convert {\n      background-color: #E8F0FE;\n      border: none;\n      border-radius: 50%;\n      cursor: pointer;\n      display: none;\n      fill: #1967D2;\n      height: 32px;\n      padding: 0 0 0 0;\n      width: 32px;\n    }\n\n    .colab-df-convert:hover {\n      background-color: #E2EBFA;\n      box-shadow: 0px 1px 2px rgba(60, 64, 67, 0.3), 0px 1px 3px 1px rgba(60, 64, 67, 0.15);\n      fill: #174EA6;\n    }\n\n    [theme=dark] .colab-df-convert {\n      background-color: #3B4455;\n      fill: #D2E3FC;\n    }\n\n    [theme=dark] .colab-df-convert:hover {\n      background-color: #434B5C;\n      box-shadow: 0px 1px 3px 1px rgba(0, 0, 0, 0.15);\n      filter: drop-shadow(0px 1px 2px rgba(0, 0, 0, 0.3));\n      fill: #FFFFFF;\n    }\n  </style>\n\n      <script>\n        const buttonEl =\n          document.querySelector('#df-957873d4-98f0-4d90-aba2-2c5d13bd084c button.colab-df-convert');\n        buttonEl.style.display =\n          google.colab.kernel.accessAllowed ? 'block' : 'none';\n\n        async function convertToInteractive(key) {\n          const element = document.querySelector('#df-957873d4-98f0-4d90-aba2-2c5d13bd084c');\n          const dataTable =\n            await google.colab.kernel.invokeFunction('convertToInteractive',\n                                                     [key], {});\n          if (!dataTable) return;\n\n          const docLinkHtml = 'Like what you see? Visit the ' +\n            '<a target=\"_blank\" href=https://colab.research.google.com/notebooks/data_table.ipynb>data table notebook</a>'\n            + ' to learn more about interactive tables.';\n          element.innerHTML = '';\n          dataTable['output_type'] = 'display_data';\n          await google.colab.output.renderOutput(dataTable, element);\n          const docLink = document.createElement('div');\n          docLink.innerHTML = docLinkHtml;\n          element.appendChild(docLink);\n        }\n      </script>\n    </div>\n  </div>\n  "
                },
                "metadata": {}
              }
            ]
          }
        },
        "b1b9cc7f0e2f44449ad6da8a914f8568": {
          "model_module": "@jupyter-widgets/base",
          "model_name": "LayoutModel",
          "model_module_version": "1.2.0",
          "state": {
            "_model_module": "@jupyter-widgets/base",
            "_model_module_version": "1.2.0",
            "_model_name": "LayoutModel",
            "_view_count": null,
            "_view_module": "@jupyter-widgets/base",
            "_view_module_version": "1.2.0",
            "_view_name": "LayoutView",
            "align_content": null,
            "align_items": null,
            "align_self": null,
            "border": null,
            "bottom": null,
            "display": null,
            "flex": null,
            "flex_flow": null,
            "grid_area": null,
            "grid_auto_columns": null,
            "grid_auto_flow": null,
            "grid_auto_rows": null,
            "grid_column": null,
            "grid_gap": null,
            "grid_row": null,
            "grid_template_areas": null,
            "grid_template_columns": null,
            "grid_template_rows": null,
            "height": null,
            "justify_content": null,
            "justify_items": null,
            "left": null,
            "margin": null,
            "max_height": null,
            "max_width": null,
            "min_height": null,
            "min_width": null,
            "object_fit": null,
            "object_position": null,
            "order": null,
            "overflow": null,
            "overflow_x": null,
            "overflow_y": null,
            "padding": null,
            "right": null,
            "top": null,
            "visibility": null,
            "width": null
          }
        }
      }
    }
  },
  "cells": [
    {
      "cell_type": "markdown",
      "source": [
        "# Machine Learning Movie Recommendation Application\n",
        "Allows users to search a movie and find various related movies that they may like to watch. This is done by training the model with movie data."
      ],
      "metadata": {
        "id": "jAdbbxGnWnI0"
      }
    },
    {
      "cell_type": "code",
      "source": [
        "!pip install Ipython"
      ],
      "metadata": {
        "colab": {
          "base_uri": "https://localhost:8080/"
        },
        "id": "lmS7pxsZdKbW",
        "outputId": "918dbe85-d5bf-4e71-f4c0-ffafe4437d9b"
      },
      "execution_count": null,
      "outputs": [
        {
          "output_type": "stream",
          "name": "stdout",
          "text": [
            "Looking in indexes: https://pypi.org/simple, https://us-python.pkg.dev/colab-wheels/public/simple/\n",
            "Requirement already satisfied: Ipython in /usr/local/lib/python3.7/dist-packages (7.9.0)\n",
            "Requirement already satisfied: traitlets>=4.2 in /usr/local/lib/python3.7/dist-packages (from Ipython) (5.1.1)\n",
            "Requirement already satisfied: pickleshare in /usr/local/lib/python3.7/dist-packages (from Ipython) (0.7.5)\n",
            "Collecting jedi>=0.10\n",
            "  Downloading jedi-0.18.1-py2.py3-none-any.whl (1.6 MB)\n",
            "\u001b[K     |████████████████████████████████| 1.6 MB 4.3 MB/s \n",
            "\u001b[?25hRequirement already satisfied: backcall in /usr/local/lib/python3.7/dist-packages (from Ipython) (0.2.0)\n",
            "Requirement already satisfied: pygments in /usr/local/lib/python3.7/dist-packages (from Ipython) (2.6.1)\n",
            "Requirement already satisfied: setuptools>=18.5 in /usr/local/lib/python3.7/dist-packages (from Ipython) (57.4.0)\n",
            "Requirement already satisfied: prompt-toolkit<2.1.0,>=2.0.0 in /usr/local/lib/python3.7/dist-packages (from Ipython) (2.0.10)\n",
            "Requirement already satisfied: decorator in /usr/local/lib/python3.7/dist-packages (from Ipython) (4.4.2)\n",
            "Requirement already satisfied: pexpect in /usr/local/lib/python3.7/dist-packages (from Ipython) (4.8.0)\n",
            "Requirement already satisfied: parso<0.9.0,>=0.8.0 in /usr/local/lib/python3.7/dist-packages (from jedi>=0.10->Ipython) (0.8.3)\n",
            "Requirement already satisfied: six>=1.9.0 in /usr/local/lib/python3.7/dist-packages (from prompt-toolkit<2.1.0,>=2.0.0->Ipython) (1.15.0)\n",
            "Requirement already satisfied: wcwidth in /usr/local/lib/python3.7/dist-packages (from prompt-toolkit<2.1.0,>=2.0.0->Ipython) (0.2.5)\n",
            "Requirement already satisfied: ptyprocess>=0.5 in /usr/local/lib/python3.7/dist-packages (from pexpect->Ipython) (0.7.0)\n",
            "Installing collected packages: jedi\n",
            "Successfully installed jedi-0.18.1\n"
          ]
        }
      ]
    },
    {
      "cell_type": "code",
      "execution_count": null,
      "metadata": {
        "id": "VUGAjdx4WjI5"
      },
      "outputs": [],
      "source": [
        "#obtain the movie data from a well known website known as grouplens\n",
        "import re\n",
        "from sklearn.metrics.pairwise import cosine_similarity\n",
        "from sklearn.feature_extraction.text import TfidfVectorizer\n",
        "import numpy\n",
        "from IPython.display import display\n",
        "import ipywidgets\n",
        "import pandas\n",
        "\n",
        "movies_data = pandas.read_csv(\"movies.csv\")\n",
        "movie_ratings = pandas.read_csv(\"ratings.csv\")\n",
        "#remove unncessary characters\n",
        "def remove_chars(movie_name):\n",
        "  return re.sub(\"[^a-zA-Z0-9 ]\", \"\", movie_name)\n",
        "\n",
        "#searching for movies\n",
        "def movie_search(movie_title):\n",
        "  movie_title = remove_chars(movie_title)\n",
        "  check_vector = vector.transform([movie_title])\n",
        "  similarity_score = cosine_similarity(check_vector, tfid).flatten() #compares the search term to the altered titles in the dataset and returns the similarity score using cosine similarity\n",
        "  #get movie titles with greatest similarity\n",
        "  similar_indices = numpy.argpartition(similarity_score, -5)[-5:] #finds 5 most similar movie titles to what is searched \n",
        "  relevant_titles = movies_data.iloc[similar_indices][::-1]\n",
        "  return relevant_titles\n",
        "\n",
        "#updates movie search everytime the user types\n",
        "def when_user_types(movie_data):\n",
        "  with data_output:\n",
        "    data_output.clear_output()\n",
        "    movie_title = movie_data[\"new\"]\n",
        "    if(len(movie_title) > 5):\n",
        "      search = movie_search(movie_title)\n",
        "      id = search.iloc[0][\"movieId\"]\n",
        "      display(get_similar_movies(id))\n",
        "\n",
        "#implementing movie recommendation system\n",
        "#checks what other viewers of the searched movie liked\n",
        "def get_similar_movies(movie_id):\n",
        "  #find recommendations from users similar to the user who searched\n",
        "  also_liked_movie = movie_ratings[(movie_ratings[\"rating\"] > 4) & (movie_ratings[\"movieId\"] == movie_id)][\"userId\"].unique()\n",
        "  user_recommendations = movie_ratings[(movie_ratings[\"rating\"] > 4) & (movie_ratings[\"userId\"].isin(also_liked_movie))][\"movieId\"]\n",
        "  #narrow down the amount of similar users for more precision\n",
        "  user_recommendations = user_recommendations.value_counts() / len(also_liked_movie)\n",
        "  user_recommendations = user_recommendations[user_recommendations > 0.10] #obtains the top 10 percent of similar users\n",
        "  #get movies from similar users that are actually similar to the searched movie\n",
        "  get_users = movie_ratings[(movie_ratings[\"rating\"] > 4) & (movie_ratings[\"movieId\"].isin(user_recommendations.index))] #obtains the users within the similar user recommendations dataset  \n",
        "  user_recs = get_users[\"movieId\"].value_counts() / len(get_users[\"userId\"].unique()) #obtains the percentage of users who recommended the movies in similar recommendations  \n",
        "  #getting the score the determines the top recommendations\n",
        "  recommend_percent = pandas.concat([user_recommendations, user_recs], axis = 1)\n",
        "  recommend_percent.columns = [\"Similar\", \"All\"] #need the numbers to be different to get better ratings\n",
        "  recommend_percent[\"score\"] = recommend_percent[\"Similar\"] / recommend_percent[\"All\"]\n",
        "  recommend_percent = recommend_percent.sort_values(\"score\", ascending = False) #sort according to the score --> better score = better recommendation\n",
        "  return recommend_percent.head(15).merge(movies_data, left_index = True, right_on = \"movieId\")[[\"score\", \"title\", \"genres\"]] #get top ten recommendations; merge to get titles  \n",
        "\n",
        "#create new column and remove unnecessary characters for easier searching\n",
        "movies_data[\"Altered_Title\"] = movies_data[\"title\"].apply(remove_chars)\n",
        "\n",
        "#convert titles to a set of numbers, since computers only understand numbers\n",
        "#use term frequency --> inverse document frequency (finds uniqueness within movie titles) --> results in a vector that describes the movie title as a number --> uses that number to find the search title according to which is most similar\n",
        "vector = TfidfVectorizer(ngram_range = (1,2)) #helps searching by considering two words of title --> example harry potter 2005 --> examines harry potter together and also potter 2005 together\n",
        "tfid = vector.fit_transform(movies_data[\"Altered_Title\"]) #converts set of movie titles to a matrix using machine learning"
      ]
    },
    {
      "cell_type": "code",
      "source": [
        "#integrates Jupyter widget for interactive search\n",
        "user_input = ipywidgets.Text(description = \"Movie Name:\", value = \"Toy Story\", disabled = False)\n",
        "data_output = ipywidgets.Output()\n",
        "user_input.observe(when_user_types, names = \"value\") #dictates when to run the function\n",
        "display(user_input, data_output) #displays both widgets"
      ],
      "metadata": {
        "colab": {
          "base_uri": "https://localhost:8080/",
          "height": 552,
          "referenced_widgets": [
            "baabd46b2c4b486cb6240b046d40c94b",
            "afb15456f19d40ed92b96906b82e8c73",
            "4de547a510bd42f496676dca47fcbba4",
            "9300783dd08344ef92dd7786c3dfad0a",
            "b1b9cc7f0e2f44449ad6da8a914f8568"
          ]
        },
        "id": "bWNu1m6rYHlA",
        "outputId": "3eca771a-f423-4179-bf06-9b89af8a7f57"
      },
      "execution_count": null,
      "outputs": [
        {
          "output_type": "display_data",
          "data": {
            "text/plain": [
              "Text(value='Toy Story', description='Movie Name:')"
            ],
            "application/vnd.jupyter.widget-view+json": {
              "version_major": 2,
              "version_minor": 0,
              "model_id": "baabd46b2c4b486cb6240b046d40c94b"
            }
          },
          "metadata": {}
        },
        {
          "output_type": "display_data",
          "data": {
            "text/plain": [
              "Output()"
            ],
            "application/vnd.jupyter.widget-view+json": {
              "version_major": 2,
              "version_minor": 0,
              "model_id": "9300783dd08344ef92dd7786c3dfad0a"
            }
          },
          "metadata": {}
        }
      ]
    }
  ]
}